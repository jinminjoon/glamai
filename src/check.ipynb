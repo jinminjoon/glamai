{
 "cells": [
  {
   "cell_type": "code",
   "execution_count": 3,
   "metadata": {},
   "outputs": [],
   "source": [
    "import os\n",
    "import re\n",
    "import sys\n",
    "import time\n",
    "import warnings\n",
    "from datetime import datetime\n",
    "\n",
    "import pickle\n",
    "import pymysql\n",
    "import requests\n",
    "from tqdm.auto import tqdm\n",
    "\n",
    "import pandas as pd\n",
    "from bs4 import BeautifulSoup\n",
    "from selenium.webdriver.common.by import By\n",
    "\n",
    "cur_dir = os.path.dirname(os.path.realpath(\"__file__\"))\n",
    "root = os.path.abspath(os.path.join(cur_dir, os.pardir))\n",
    "src = os.path.join(root, 'src')\n",
    "sys.path.append(src)\n",
    "tbl_cache = os.path.join(root, 'tbl_cache')\n",
    "\n",
    "from database.conn import AccessDatabase\n",
    "from crawling.crawler import get_url, json_iterator, get_headers\n",
    "today = datetime.today().strftime('%y%m%d')\n",
    "\n",
    "db_glamai = AccessDatabase('glamai')\n",
    "db_jangho = AccessDatabase('jangho')\n",
    "\n",
    "warnings.filterwarnings(\"ignore\")"
   ]
  },
  {
   "cell_type": "markdown",
   "metadata": {},
   "source": [
    "###\n",
    "### Sephora Review Check\n",
    "---"
   ]
  },
  {
   "cell_type": "code",
   "execution_count": null,
   "metadata": {},
   "outputs": [],
   "source": [
    "# Check crawling result\n",
    "txt_data_path = os.path.join(tbl_cache, \"txt_data.txt\")\n",
    "with open(txt_data_path, \"rb\") as f:\n",
    "    txt_data = pickle.load(f)\n",
    "    \n",
    "error_path = os.path.join(tbl_cache, \"error.txt\")\n",
    "with open(error_path, \"rb\") as f:\n",
    "    error = pickle.load(f)\n",
    "\n",
    "\n",
    "columns = ['product_code', 'product_id', 'rating', 'skin_type', 'eye_color', 'skin_concerns', 'hair_color', 'skin_tone', 'age', 'title', 'txt_data', 'positive_count', 'write_time', 'regist_date']\n",
    "rev_df = pd.DataFrame(txt_data, columns=columns)\n",
    "\n",
    "error_df = pd.DataFrame(error, columns=['product_code', 'product_url', 'note'])\n",
    "error_df_cnt = error_df.groupby('note').count()\n",
    "\n",
    "rev_df.groupby('product_code').count()\n",
    "\n",
    "print(\\\n",
    "    f\"\\n\\nproduct counts: {len(rev_df.product_code.unique())}\\n\\\n",
    "    product review counts: {len(rev_df)}\\n\\\n",
    "    reviews that already exist: {error_df_cnt.iloc[0, 0]}\\n\\\n",
    "    review does not exist: {error_df_cnt.iloc[1, 0]}\"\n",
    ")"
   ]
  },
  {
   "cell_type": "markdown",
   "metadata": {},
   "source": [
    "###\n",
    "### Sephora Status Check\n",
    "---"
   ]
  },
  {
   "cell_type": "code",
   "execution_count": null,
   "metadata": {},
   "outputs": [],
   "source": [
    "# Check status\n",
    "\n",
    "verticals = ['treatments', 'masks', 'eye_care', 'body_care', 'mens', 'fragrance_men', 'fragrance_women', 'wellness', 'cleansers', 'face_base', 'eye', 'lip_color', 'moisturizers', 'cheek']\n",
    "df_list = []\n",
    "for vertical in verticals:\n",
    "    query = f'select is_use, count(*) as count, \"{vertical}\" as vertical from `sephora_{vertical}_data_status` group by is_use;'\n",
    "    conn, curs = db_glamai._connect()\n",
    "    curs.execute(query)\n",
    "    data = curs.fetchall()\n",
    "    df = pd.DataFrame(data)\n",
    "    print(df, '\\n\\n')\n",
    "    df_list.append(df)\n",
    "\n",
    "curs.close()\n",
    "conn.close()    \n",
    "status_df = pd.concat(df_list)"
   ]
  },
  {
   "cell_type": "code",
   "execution_count": null,
   "metadata": {},
   "outputs": [],
   "source": [
    "bak_date = input(\"Enter the date (가장 최근에 세포라 status 업데이트를 시행한 날짜)[ ex) `221203` ] :  \")"
   ]
  },
  {
   "cell_type": "code",
   "execution_count": null,
   "metadata": {},
   "outputs": [],
   "source": [
    "# Check product counts\n",
    "verticals = ['treatments', 'masks', 'eye_care', 'body_care', 'mens', 'fragrance_men', 'fragrance_women', 'wellness', 'cleansers', 'face_base', 'eye', 'lip_color', 'moisturizers', 'cheek']\n",
    "conn, curs = db_glamai._connect()\n",
    "datas = []\n",
    "current, paste = 0, 0\n",
    "for vertical in verticals:\n",
    "    query = f'''\\\n",
    "    select 'sephora_{vertical}_data_status' as tbl, count(*) as cnt from sephora_{vertical}_data_status union\\\n",
    "    select 'sephora_{vertical}_data_status_bak_{bak_date}', count(*) as cnt from sephora_{vertical}_data_status_bak_{bak_date};'''\n",
    "    curs.execute(query)\n",
    "    data = curs.fetchall()\n",
    "    df = pd.DataFrame(data)\n",
    "    print(df, '\\n\\n')\n",
    "    datas += data\n",
    "    current += df.iloc[0, 1]\n",
    "    paste += df.iloc[1, 1]\n",
    "    \n",
    "curs.close()\n",
    "conn.close()    \n",
    "\n",
    "df = pd.DataFrame(datas)\n",
    "print(f' - Current: {current}\\n - Paste: {paste}\\n - Change: {current - paste}')\n"
   ]
  },
  {
   "cell_type": "code",
   "execution_count": null,
   "metadata": {},
   "outputs": [],
   "source": [
    "# Check product counts where is_use=1\n",
    "verticals = ['treatments', 'masks', 'eye_care', 'body_care', 'mens', 'fragrance_men', 'fragrance_women', 'wellness', 'cleansers', 'face_base', 'eye', 'lip_color', 'moisturizers', 'cheek']\n",
    "conn, curs = db_glamai._connect()\n",
    "datas = []\n",
    "current, paste = 0, 0\n",
    "for vertical in verticals:\n",
    "    query = f'''\\\n",
    "    select 'sephora_{vertical}_data_status' as tbl, count(*) as cnt from sephora_{vertical}_data_status where is_use=1 union\\\n",
    "    select 'sephora_{vertical}_data_status_bak_{bak_date}', count(*) as cnt from sephora_{vertical}_data_status_bak_{bak_date} where is_use=1;'''\n",
    "    curs.execute(query)\n",
    "    data = curs.fetchall()\n",
    "    df = pd.DataFrame(data)\n",
    "    print(df, '\\n\\n')\n",
    "    datas += data\n",
    "    current += df.iloc[0, 1]\n",
    "    paste += df.iloc[1, 1]\n",
    "    \n",
    "curs.close()\n",
    "conn.close()    \n",
    "\n",
    "df = pd.DataFrame(datas)\n",
    "print(f' - Current: {current}\\n - Paste: {paste}\\n - Change: {current - paste}')"
   ]
  },
  {
   "cell_type": "markdown",
   "metadata": {},
   "source": [
    "###\n",
    "### Amazon Status Check & Update\n",
    "---"
   ]
  },
  {
   "cell_type": "code",
   "execution_count": null,
   "metadata": {},
   "outputs": [],
   "source": [
    "from affiliate.amazon import get_data_amazon\n",
    "_date = input(\"Enter the date [ ex) `221203` ] :  \")\n",
    "\n",
    "tbl = f'affiliate_price_update_amazon_{_date}'\n",
    "upload_df = db_jangho.get_tbl(tbl)\n",
    "\n",
    "upload_df.groupby('is_use').count()"
   ]
  },
  {
   "cell_type": "code",
   "execution_count": null,
   "metadata": {},
   "outputs": [],
   "source": [
    "upload_df[upload_df.is_use==1].groupby('is_sale').count()"
   ]
  },
  {
   "cell_type": "code",
   "execution_count": null,
   "metadata": {},
   "outputs": [],
   "source": [
    "# Check & Re-Crawling\n",
    "for idx in upload_df[(upload_df.is_use==-1) | (upload_df.is_use==2)].index:\n",
    "    \n",
    "    product_code = upload_df.loc[idx, \"product_code\"]\n",
    "    item_no = upload_df.loc[idx, \"item_no\"]\n",
    "    affiliate_type = upload_df.loc[idx, \"affiliate_type\"]\n",
    "    url = upload_df.loc[idx, \"affiliate_url\"]\n",
    "    crawled = get_data_amazon(url, window=True, image=True)\n",
    "    price, sale_price, is_sale, is_use = crawled[3:7]\n",
    "\n",
    "    if is_use == 1:\n",
    "        query = f\"\"\"\\\n",
    "        UPDATE {tbl} \\\n",
    "        SET price={price}, sale_price={sale_price}, is_sale={is_sale}, is_use={is_use} \\\n",
    "        WHERE product_code='{product_code}' and item_no={item_no} and affiliate_type='{affiliate_type}';\\\n",
    "        \"\"\"\n",
    "        db_jangho._execute(query)"
   ]
  },
  {
   "cell_type": "code",
   "execution_count": null,
   "metadata": {},
   "outputs": [],
   "source": [
    "query = f'''\n",
    "update glamai.affiliate_price as a\n",
    "join jangho.affiliate_price_update_amazon_{_date} as b \n",
    "on a.product_code = b.product_code and a.item_no = b.item_no and a.affiliate_type = b.affiliate_type\n",
    "set a.price = b.price, a.sale_price = b.sale_price, a.is_sale = b.is_sale, a.is_use = b.is_use, a.regist_date = b.regist_date, a.update_date = b.update_date\n",
    "where b.is_use!=-1 and b.is_use!=2;'''\n",
    "\n",
    "conn, curs = db_jangho._connect()\n",
    "curs.execute(query)\n",
    "conn.commit()\n",
    "curs.close()\n",
    "conn.close()\n",
    "\n",
    "# Check query\n",
    "query = 'select * from affiliate_price where is_use=1 and is_sale=0 and sale_price=0;'\n",
    "conn, curs = db_glamai._connect()\n",
    "curs.execute(query)\n",
    "data = curs.fetchall()\n",
    "\n",
    "if len(data) == 0:\n",
    "    print(\"\\n\\nComplete amazon status data!\")\n",
    "else:\n",
    "    print(\"\\n\\nError: Check status!\")\n",
    "    \n",
    "curs.close()\n",
    "conn.close()"
   ]
  },
  {
   "cell_type": "markdown",
   "metadata": {},
   "source": [
    "###\n",
    "### Ulta Status Check & Update\n",
    "---"
   ]
  },
  {
   "cell_type": "code",
   "execution_count": null,
   "metadata": {},
   "outputs": [],
   "source": [
    "_date = input(\"Enter the date [ ex) `221203` ] :  \")\n",
    "\n",
    "tbl = f'affiliate_price_update_ulta_{_date}'\n",
    "upload_df = db_jangho.get_tbl(tbl)\n",
    "upload_df.groupby('is_use').count()"
   ]
  },
  {
   "cell_type": "code",
   "execution_count": null,
   "metadata": {},
   "outputs": [],
   "source": [
    "upload_df[upload_df.is_use==1].groupby('is_sale').count()"
   ]
  },
  {
   "cell_type": "code",
   "execution_count": null,
   "metadata": {},
   "outputs": [],
   "source": [
    "query = f'''\n",
    "update glamai.affiliate_price as a\n",
    "join jangho.affiliate_price_update_ulta_{_date} as b \n",
    "on a.product_code = b.product_code and a.item_no = b.item_no and a.affiliate_type = b.affiliate_type\n",
    "set a.price = b.price, a.sale_price = b.sale_price, a.is_sale = b.is_sale, a.is_use = b.is_use, a.regist_date = b.regist_date, a.update_date = b.update_date\n",
    "where b.is_use!=-1;'''\n",
    "\n",
    "conn, curs = db_jangho._connect()\n",
    "curs.execute(query)\n",
    "conn.commit()\n",
    "curs.close()\n",
    "conn.close()\n",
    "# Check query\n",
    "\n",
    "query = 'select * from affiliate_price where is_use=1 and is_sale=0 and sale_price=0;'\n",
    "conn, curs = db_glamai._connect()\n",
    "curs.execute(query)\n",
    "data = curs.fetchall()\n",
    "curs.close()\n",
    "conn.close()\n",
    "\n",
    "if len(data) == 0:\n",
    "    print(\"Complete update ulta sale!\")"
   ]
  },
  {
   "cell_type": "code",
   "execution_count": null,
   "metadata": {},
   "outputs": [],
   "source": []
  }
 ],
 "metadata": {
  "kernelspec": {
   "display_name": "Python 3.10.4 ('venv': venv)",
   "language": "python",
   "name": "python3"
  },
  "language_info": {
   "codemirror_mode": {
    "name": "ipython",
    "version": 3
   },
   "file_extension": ".py",
   "mimetype": "text/x-python",
   "name": "python",
   "nbconvert_exporter": "python",
   "pygments_lexer": "ipython3",
   "version": "3.10.4"
  },
  "orig_nbformat": 4,
  "vscode": {
   "interpreter": {
    "hash": "e6e13581618c17731e2f387e6cdae1396e442743c6bb2b5fd11d35971355b684"
   }
  }
 },
 "nbformat": 4,
 "nbformat_minor": 2
}
