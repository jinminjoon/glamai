{
 "cells": [
  {
   "cell_type": "code",
   "execution_count": 2,
   "metadata": {},
   "outputs": [
    {
     "name": "stderr",
     "output_type": "stream",
     "text": [
      "/Users/yeonseosla/opt/anaconda3/envs/venv/lib/python3.10/site-packages/tqdm/auto.py:22: TqdmWarning: IProgress not found. Please update jupyter and ipywidgets. See https://ipywidgets.readthedocs.io/en/stable/user_install.html\n",
      "  from .autonotebook import tqdm as notebook_tqdm\n"
     ]
    }
   ],
   "source": [
    "import os\n",
    "import re\n",
    "import sys\n",
    "from datetime import datetime\n",
    "\n",
    "import pymysql\n",
    "import requests\n",
    "from tqdm.auto import tqdm\n",
    "\n",
    "import pandas as pd\n",
    "\n",
    "# if getattr(sys, 'frozen', False) and hasattr(sys, '_MEIPASS'):\n",
    "#     root = sys._MEIPASS\n",
    "# else:\n",
    "#     cur_dir = os.path.dirname(os.path.realpath('__file__'))\n",
    "#     root = os.path.abspath(os.path.join(cur_dir, os.pardir, os.pardir))\n",
    "#     src  = os.path.join(root, 'src')\n",
    "#     sys.path.append(src)\n",
    "\n",
    "from database.access import AccessDatabase\n",
    "from crawling.crawler import get_url, json_iterator\n",
    "today = datetime.today().strftime('%y%m%d')\n",
    "db_glamai = AccessDatabase('glamai')\n",
    "db_jangho = AccessDatabase('jangho')"
   ]
  },
  {
   "cell_type": "code",
   "execution_count": null,
   "metadata": {},
   "outputs": [],
   "source": []
  },
  {
   "cell_type": "markdown",
   "metadata": {},
   "source": [
    "---\n",
    "### Sephora Product Update"
   ]
  },
  {
   "cell_type": "markdown",
   "metadata": {},
   "source": [
    "---\n",
    "#### 1st) Refinement"
   ]
  },
  {
   "cell_type": "code",
   "execution_count": null,
   "metadata": {},
   "outputs": [],
   "source": [
    "from sephora_product.refinement import Refinement\n",
    "products = Refinement().update_refinement()"
   ]
  },
  {
   "cell_type": "markdown",
   "metadata": {},
   "source": [
    "---\n",
    "#### 2nd) Products By Subcategory"
   ]
  },
  {
   "cell_type": "code",
   "execution_count": null,
   "metadata": {},
   "outputs": [],
   "source": [
    "from sephora_product.product_keyword import ProductKeyword\n",
    "upload_df = ProductKeyword().update_product_keyword()"
   ]
  },
  {
   "cell_type": "code",
   "execution_count": null,
   "metadata": {},
   "outputs": [],
   "source": [
    "# _upload_df = upload_df.copy()\n",
    "\n",
    "# today_date = datetime.today().strftime('%Y-%m-%d')\n",
    "# _upload_df.loc[_upload_df.update_date<today_date, 'is_use'] = 0\n",
    "# db_glamai.create_table(_upload_df, 'sephora_product_keyword')"
   ]
  },
  {
   "cell_type": "markdown",
   "metadata": {},
   "source": [
    "---\n",
    "#### 3rd) Update Vertical data"
   ]
  },
  {
   "cell_type": "code",
   "execution_count": null,
   "metadata": {},
   "outputs": [],
   "source": [
    "from sephora_product.vertical_data import VerticalData\n",
    "VerticalData().update_vertical_data()"
   ]
  },
  {
   "cell_type": "code",
   "execution_count": null,
   "metadata": {},
   "outputs": [],
   "source": []
  },
  {
   "cell_type": "markdown",
   "metadata": {},
   "source": [
    "---\n",
    "#### 4th) Update Best & New & Vegan & Organic"
   ]
  },
  {
   "cell_type": "code",
   "execution_count": null,
   "metadata": {},
   "outputs": [],
   "source": [
    "from sephora_product.best_new import UpdateBestSellerNew\n",
    "from sephora_product.keywords import SephoraVeganOrganic\n",
    "UpdateBestSellerNew().update_best_new()\n",
    "SephoraVeganOrganic().update_keywords()"
   ]
  },
  {
   "cell_type": "code",
   "execution_count": null,
   "metadata": {},
   "outputs": [],
   "source": []
  },
  {
   "cell_type": "code",
   "execution_count": null,
   "metadata": {},
   "outputs": [],
   "source": []
  },
  {
   "cell_type": "markdown",
   "metadata": {},
   "source": [
    "---\n",
    "#### 5th) Review Date"
   ]
  },
  {
   "cell_type": "code",
   "execution_count": null,
   "metadata": {},
   "outputs": [],
   "source": [
    "from sephora_product.review_date import ReviewDate\n",
    "new_product_list, data = ReviewDate().update_review_date()"
   ]
  },
  {
   "cell_type": "code",
   "execution_count": null,
   "metadata": {},
   "outputs": [],
   "source": []
  },
  {
   "cell_type": "code",
   "execution_count": null,
   "metadata": {},
   "outputs": [],
   "source": []
  },
  {
   "cell_type": "markdown",
   "metadata": {},
   "source": [
    "---\n",
    "#### 6th) Insert product info"
   ]
  },
  {
   "cell_type": "code",
   "execution_count": null,
   "metadata": {},
   "outputs": [],
   "source": [
    "from sephora_product.insert_product_info import update_product_info\n",
    "result = update_product_info()"
   ]
  },
  {
   "cell_type": "code",
   "execution_count": null,
   "metadata": {},
   "outputs": [],
   "source": [
    "result"
   ]
  },
  {
   "cell_type": "markdown",
   "metadata": {},
   "source": [
    "---\n",
    "#### 7th) All product update"
   ]
  },
  {
   "cell_type": "code",
   "execution_count": null,
   "metadata": {},
   "outputs": [],
   "source": [
    "from sephora_product.all_product_update import update_all_product\n",
    "data = update_all_product()"
   ]
  },
  {
   "cell_type": "code",
   "execution_count": null,
   "metadata": {},
   "outputs": [],
   "source": []
  },
  {
   "cell_type": "markdown",
   "metadata": {},
   "source": [
    "---\n",
    "### Search Keywords Update"
   ]
  },
  {
   "cell_type": "code",
   "execution_count": null,
   "metadata": {},
   "outputs": [],
   "source": [
    "from sephora_keyword.search_keyword import update_search_keywords, db_distinction\n",
    "total_df = update_search_keywords()\n",
    "db_distinction()"
   ]
  },
  {
   "cell_type": "code",
   "execution_count": null,
   "metadata": {},
   "outputs": [],
   "source": []
  },
  {
   "cell_type": "markdown",
   "metadata": {},
   "source": [
    "---\n",
    "### Sephora Review Update"
   ]
  },
  {
   "cell_type": "markdown",
   "metadata": {},
   "source": [
    "---\n",
    "#### 1st) Review Data"
   ]
  },
  {
   "cell_type": "code",
   "execution_count": null,
   "metadata": {},
   "outputs": [],
   "source": [
    "# # backup table\n",
    "# table = 'sephora_txt_data_re'\n",
    "# db_glamai._backup(table_name=table, keep=True)"
   ]
  },
  {
   "cell_type": "code",
   "execution_count": null,
   "metadata": {},
   "outputs": [],
   "source": [
    "# update review data\n",
    "from sephora_review.review_data import ReviewData\n",
    "txt_data, error = ReviewData()._crawling(backup=True)"
   ]
  },
  {
   "cell_type": "code",
   "execution_count": null,
   "metadata": {},
   "outputs": [],
   "source": [
    "columns = ['product_code', 'product_id', 'rating', 'skin_type', 'eye_color', 'skin_concerns', 'hair_color', 'skin_tone', 'age', 'title', 'txt_data', 'positive_count', 'write_time', 'regist_date']\n",
    "rev_df = pd.DataFrame(txt_data, columns=columns)\n",
    "\n",
    "error_df = pd.DataFrame(error, columns=['product_code', 'product_url', 'note'])\n",
    "error_df_cnt = error_df.groupby('note').count()\n",
    "\n",
    "rev_df.groupby('product_code').count()\n",
    "\n",
    "print(\\\n",
    "f\"product counts: {len(rev_df.product_code.unique())}\\n\\\n",
    "product review counts: {len(rev_df)}\\n\\\n",
    "reviews that already exist: {error_df_cnt.iloc[0, 0]}\\n\\\n",
    "review does not exist: {error_df_cnt.iloc[1, 0]}\")"
   ]
  },
  {
   "cell_type": "markdown",
   "metadata": {},
   "source": [
    "---\n",
    "#### 2nd) Review Date Update"
   ]
  },
  {
   "cell_type": "code",
   "execution_count": null,
   "metadata": {},
   "outputs": [],
   "source": [
    "from sephora_review.review_data import ReviewDate\n",
    "result = ReviewDate().update_review_date()"
   ]
  },
  {
   "cell_type": "markdown",
   "metadata": {},
   "source": [
    "---\n",
    "#### 3rd) Duplicate check"
   ]
  },
  {
   "cell_type": "code",
   "execution_count": null,
   "metadata": {},
   "outputs": [],
   "source": [
    "'''\n",
    "/* replace */ \n",
    "UPDATE sephora_txt_data_re SET txt_data = REPLACE(txt_data, '.Not impressed.', '.') WHERE BINARY(txt_data) LIKE '%Not impressed.';\n",
    "\n",
    "/* check duplicated */\n",
    "select product_code, txt_data, write_time, like_count, count(*) as cnt\n",
    "from sephora_txt_data_re\n",
    "group by product_code, txt_data, write_time\n",
    "having cnt > 1;\n",
    "\n",
    "/* dedup */\n",
    "\n",
    "delete t1 \n",
    "from sephora_txt_data_re t1, sephora_txt_data_re t2 \n",
    "where \n",
    "t1.product_code=t2.product_code and \n",
    "t1.txt_data = t2.txt_data and \n",
    "t1.write_time =t2.write_time and\n",
    "t1.like_count < t2.like_count;\n",
    "\n",
    "delete t1 \n",
    "from sephora_txt_data_re t1, sephora_txt_data_re t2\n",
    "where \n",
    "t1.product_code = t2.product_code and \n",
    "t1.txt_data = t2.txt_data and\n",
    "t1.write_time = t2.write_time and\n",
    "t1.like_count = t2.like_count and\n",
    "t1.pk < t2.pk;\n",
    "'''"
   ]
  },
  {
   "cell_type": "code",
   "execution_count": null,
   "metadata": {},
   "outputs": [],
   "source": []
  },
  {
   "cell_type": "markdown",
   "metadata": {},
   "source": [
    "---\n",
    "###\n"
   ]
  },
  {
   "cell_type": "code",
   "execution_count": null,
   "metadata": {},
   "outputs": [],
   "source": []
  },
  {
   "cell_type": "code",
   "execution_count": null,
   "metadata": {},
   "outputs": [],
   "source": []
  },
  {
   "cell_type": "markdown",
   "metadata": {},
   "source": [
    "---\n",
    "### Sephora Product Status \n",
    "\n"
   ]
  },
  {
   "cell_type": "code",
   "execution_count": null,
   "metadata": {},
   "outputs": [],
   "source": [
    "from sephora_update.status import update_sephora_status\n",
    "\n",
    "status_data_dict = {}\n",
    "verticals = ['face_base', 'eye', 'lip_color', 'moisturizers', 'cheek', 'treatments', 'masks', 'eye_care', 'body_care', 'mens', 'fragrance_men', 'fragrance_women', 'wellness', 'cleansers']\n",
    "for vertical in tqdm(verticals):\n",
    "    status_data_df = update_sephora_status(vertical)\n",
    "    status_data_dict[vertical] = status_data_df"
   ]
  },
  {
   "cell_type": "code",
   "execution_count": null,
   "metadata": {},
   "outputs": [],
   "source": []
  },
  {
   "cell_type": "markdown",
   "metadata": {},
   "source": [
    "---\n",
    "### Sephora Product Sale"
   ]
  },
  {
   "cell_type": "code",
   "execution_count": null,
   "metadata": {},
   "outputs": [],
   "source": [
    "from sephora_update.sales import update_sephora_sale\n",
    "\n",
    "price_data_dict = {}\n",
    "verticals = ['face_base', 'eye', 'lip_color', 'moisturizers', 'cheek', 'treatments', 'masks', 'eye_care', 'body_care', 'mens', 'fragrance_men', 'fragrance_women', 'wellness', 'cleansers']\n",
    "for vertical in tqdm(verticals):\n",
    "    price_data = update_sephora_sale(vertical)\n",
    "    price_data_dict[vertical] = price_data"
   ]
  },
  {
   "cell_type": "code",
   "execution_count": null,
   "metadata": {},
   "outputs": [],
   "source": [
    "# verticals = ['face_base', 'eye', 'lip_color', 'moisturizers', 'cheek', 'treatments', 'masks', 'eye_care', 'body_care', 'mens', 'fragrance_men', 'fragrance_women', 'wellness', 'cleansers']\n",
    "\n",
    "# def update_sephora_sale_v(vertical):\n",
    "#     # backup table\n",
    "#     table_name = f'sephora_{vertical}_data_sale'\n",
    "#     db_glamai._backup(table_name=table_name, keep=True)\n",
    "    \n",
    "#     from sephora_update.sales import UpdateProductSale\n",
    "#     sale = UpdateProductSale()\n",
    "    \n",
    "#     sale.__conn__()\n",
    "#     product_codes = sale.get_data(vertical)\n",
    "#     sale.insert_data_new(vertical)\n",
    "\n",
    "#     status_info, price_datas = [], []\n",
    "#     for product_code in tqdm(product_codes):\n",
    "#         price_data, status = sale.update_data(product_code, vertical)\n",
    "        \n",
    "#         status_info.append([product_code, status])\n",
    "#         price_datas += price_data\n",
    "#     sale.__close__()\n",
    "#     print(f'{vertical} product status update 완료!')\n",
    "\n",
    "#     return price_data"
   ]
  },
  {
   "cell_type": "code",
   "execution_count": null,
   "metadata": {},
   "outputs": [],
   "source": []
  },
  {
   "cell_type": "code",
   "execution_count": null,
   "metadata": {},
   "outputs": [],
   "source": []
  },
  {
   "cell_type": "markdown",
   "metadata": {},
   "source": [
    "---\n",
    "### Affiliate price"
   ]
  },
  {
   "cell_type": "markdown",
   "metadata": {},
   "source": [
    "---\n",
    "#### Amazon update"
   ]
  },
  {
   "cell_type": "code",
   "execution_count": null,
   "metadata": {},
   "outputs": [],
   "source": [
    "from affiliate.amazon import get_data, _crawling, _upload"
   ]
  },
  {
   "cell_type": "code",
   "execution_count": null,
   "metadata": {},
   "outputs": [],
   "source": [
    "# df_amazon = get_data()\n",
    "# datas, error = [], []\n",
    "# for value in tqdm(df_amazon.values):\n",
    "#     data = _crawling(value)\n",
    "#     if data is None:\n",
    "#         affiliate_url = value[3]\n",
    "#         error.append(affiliate_url)\n",
    "#     else:\n",
    "#         datas.append(data)\n",
    "# crawling_df, upload_df = _upload(datas)"
   ]
  },
  {
   "cell_type": "code",
   "execution_count": 95,
   "metadata": {},
   "outputs": [
    {
     "data": {
      "text/html": [
       "<div>\n",
       "<style scoped>\n",
       "    .dataframe tbody tr th:only-of-type {\n",
       "        vertical-align: middle;\n",
       "    }\n",
       "\n",
       "    .dataframe tbody tr th {\n",
       "        vertical-align: top;\n",
       "    }\n",
       "\n",
       "    .dataframe thead th {\n",
       "        text-align: right;\n",
       "    }\n",
       "</style>\n",
       "<table border=\"1\" class=\"dataframe\">\n",
       "  <thead>\n",
       "    <tr style=\"text-align: right;\">\n",
       "      <th></th>\n",
       "      <th>product_code</th>\n",
       "      <th>item_no</th>\n",
       "      <th>affiliate_type</th>\n",
       "      <th>affiliate_url</th>\n",
       "      <th>affiliate_image</th>\n",
       "      <th>price</th>\n",
       "      <th>sale_price</th>\n",
       "      <th>is_sale</th>\n",
       "      <th>regist_date</th>\n",
       "      <th>update_date</th>\n",
       "    </tr>\n",
       "    <tr>\n",
       "      <th>is_use</th>\n",
       "      <th></th>\n",
       "      <th></th>\n",
       "      <th></th>\n",
       "      <th></th>\n",
       "      <th></th>\n",
       "      <th></th>\n",
       "      <th></th>\n",
       "      <th></th>\n",
       "      <th></th>\n",
       "      <th></th>\n",
       "    </tr>\n",
       "  </thead>\n",
       "  <tbody>\n",
       "    <tr>\n",
       "      <th>-1</th>\n",
       "      <td>952</td>\n",
       "      <td>952</td>\n",
       "      <td>952</td>\n",
       "      <td>952</td>\n",
       "      <td>952</td>\n",
       "      <td>952</td>\n",
       "      <td>952</td>\n",
       "      <td>952</td>\n",
       "      <td>952</td>\n",
       "      <td>952</td>\n",
       "    </tr>\n",
       "    <tr>\n",
       "      <th>0</th>\n",
       "      <td>1496</td>\n",
       "      <td>1496</td>\n",
       "      <td>1496</td>\n",
       "      <td>1496</td>\n",
       "      <td>1495</td>\n",
       "      <td>1496</td>\n",
       "      <td>1496</td>\n",
       "      <td>1496</td>\n",
       "      <td>1496</td>\n",
       "      <td>1496</td>\n",
       "    </tr>\n",
       "    <tr>\n",
       "      <th>1</th>\n",
       "      <td>2136</td>\n",
       "      <td>2136</td>\n",
       "      <td>2136</td>\n",
       "      <td>2136</td>\n",
       "      <td>2136</td>\n",
       "      <td>2136</td>\n",
       "      <td>2136</td>\n",
       "      <td>2136</td>\n",
       "      <td>2136</td>\n",
       "      <td>2136</td>\n",
       "    </tr>\n",
       "  </tbody>\n",
       "</table>\n",
       "</div>"
      ],
      "text/plain": [
       "        product_code  item_no  affiliate_type  affiliate_url  affiliate_image  \\\n",
       "is_use                                                                          \n",
       "-1               952      952             952            952              952   \n",
       " 0              1496     1496            1496           1496             1495   \n",
       " 1              2136     2136            2136           2136             2136   \n",
       "\n",
       "        price  sale_price  is_sale  regist_date  update_date  \n",
       "is_use                                                        \n",
       "-1        952         952      952          952          952  \n",
       " 0       1496        1496     1496         1496         1496  \n",
       " 1       2136        2136     2136         2136         2136  "
      ]
     },
     "execution_count": 95,
     "metadata": {},
     "output_type": "execute_result"
    }
   ],
   "source": [
    "# upload_df = pd.read_csv('/Users/yeonseosla/Downloads/amazon_data.csv')\n",
    "upload_df.groupby('is_use').count()"
   ]
  },
  {
   "cell_type": "code",
   "execution_count": 29,
   "metadata": {},
   "outputs": [
    {
     "data": {
      "text/html": [
       "<div>\n",
       "<style scoped>\n",
       "    .dataframe tbody tr th:only-of-type {\n",
       "        vertical-align: middle;\n",
       "    }\n",
       "\n",
       "    .dataframe tbody tr th {\n",
       "        vertical-align: top;\n",
       "    }\n",
       "\n",
       "    .dataframe thead th {\n",
       "        text-align: right;\n",
       "    }\n",
       "</style>\n",
       "<table border=\"1\" class=\"dataframe\">\n",
       "  <thead>\n",
       "    <tr style=\"text-align: right;\">\n",
       "      <th></th>\n",
       "      <th>product_code</th>\n",
       "      <th>item_no</th>\n",
       "      <th>affiliate_type</th>\n",
       "      <th>affiliate_url</th>\n",
       "      <th>affiliate_image</th>\n",
       "      <th>price</th>\n",
       "      <th>sale_price</th>\n",
       "      <th>is_use</th>\n",
       "      <th>regist_date</th>\n",
       "      <th>update_date</th>\n",
       "    </tr>\n",
       "    <tr>\n",
       "      <th>is_sale</th>\n",
       "      <th></th>\n",
       "      <th></th>\n",
       "      <th></th>\n",
       "      <th></th>\n",
       "      <th></th>\n",
       "      <th></th>\n",
       "      <th></th>\n",
       "      <th></th>\n",
       "      <th></th>\n",
       "      <th></th>\n",
       "    </tr>\n",
       "  </thead>\n",
       "  <tbody>\n",
       "    <tr>\n",
       "      <th>0</th>\n",
       "      <td>1357</td>\n",
       "      <td>1357</td>\n",
       "      <td>1357</td>\n",
       "      <td>1357</td>\n",
       "      <td>1357</td>\n",
       "      <td>1357</td>\n",
       "      <td>1357</td>\n",
       "      <td>1357</td>\n",
       "      <td>1357</td>\n",
       "      <td>1357</td>\n",
       "    </tr>\n",
       "    <tr>\n",
       "      <th>1</th>\n",
       "      <td>779</td>\n",
       "      <td>779</td>\n",
       "      <td>779</td>\n",
       "      <td>779</td>\n",
       "      <td>779</td>\n",
       "      <td>779</td>\n",
       "      <td>779</td>\n",
       "      <td>779</td>\n",
       "      <td>779</td>\n",
       "      <td>779</td>\n",
       "    </tr>\n",
       "  </tbody>\n",
       "</table>\n",
       "</div>"
      ],
      "text/plain": [
       "         product_code  item_no  affiliate_type  affiliate_url  \\\n",
       "is_sale                                                         \n",
       "0                1357     1357            1357           1357   \n",
       "1                 779      779             779            779   \n",
       "\n",
       "         affiliate_image  price  sale_price  is_use  regist_date  update_date  \n",
       "is_sale                                                                        \n",
       "0                   1357   1357        1357    1357         1357         1357  \n",
       "1                    779    779         779     779          779          779  "
      ]
     },
     "execution_count": 29,
     "metadata": {},
     "output_type": "execute_result"
    }
   ],
   "source": [
    "upload_df[upload_df.is_use==1].groupby('is_sale').count()"
   ]
  },
  {
   "cell_type": "code",
   "execution_count": 88,
   "metadata": {},
   "outputs": [],
   "source": [
    "_upload_df = upload_df.copy()\n",
    "\n",
    "_upload_df.loc[_upload_df.price < _upload_df.sale_price, 'price'] = _upload_df.loc[_upload_df.price < _upload_df.sale_price, 'sale_price']\n",
    "_upload_df.loc[(_upload_df.price==_upload_df.sale_price) & (_upload_df.price!=0), ['is_sale', 'is_use']] = [0, 1]\n",
    "_upload_df.loc[_upload_df.is_use==-1, ['is_sale', 'is_use']] = [0, 0]"
   ]
  },
  {
   "cell_type": "code",
   "execution_count": 99,
   "metadata": {},
   "outputs": [
    {
     "name": "stdout",
     "output_type": "stream",
     "text": [
      "<class 'pandas.core.frame.DataFrame'>\n",
      "RangeIndex: 4584 entries, 0 to 4583\n",
      "Data columns (total 11 columns):\n",
      " #   Column           Non-Null Count  Dtype  \n",
      "---  ------           --------------  -----  \n",
      " 0   product_code     4584 non-null   object \n",
      " 1   item_no          4584 non-null   int64  \n",
      " 2   affiliate_type   4584 non-null   object \n",
      " 3   affiliate_url    4584 non-null   object \n",
      " 4   affiliate_image  4583 non-null   object \n",
      " 5   price            4584 non-null   float64\n",
      " 6   sale_price       4584 non-null   float64\n",
      " 7   is_sale          4584 non-null   int64  \n",
      " 8   is_use           4584 non-null   int64  \n",
      " 9   regist_date      4584 non-null   object \n",
      " 10  update_date      4584 non-null   object \n",
      "dtypes: float64(2), int64(3), object(6)\n",
      "memory usage: 394.1+ KB\n"
     ]
    }
   ],
   "source": [
    "_upload_df.info()"
   ]
  },
  {
   "cell_type": "code",
   "execution_count": 101,
   "metadata": {},
   "outputs": [
    {
     "data": {
      "text/html": [
       "<div>\n",
       "<style scoped>\n",
       "    .dataframe tbody tr th:only-of-type {\n",
       "        vertical-align: middle;\n",
       "    }\n",
       "\n",
       "    .dataframe tbody tr th {\n",
       "        vertical-align: top;\n",
       "    }\n",
       "\n",
       "    .dataframe thead th {\n",
       "        text-align: right;\n",
       "    }\n",
       "</style>\n",
       "<table border=\"1\" class=\"dataframe\">\n",
       "  <thead>\n",
       "    <tr style=\"text-align: right;\">\n",
       "      <th></th>\n",
       "      <th>product_code</th>\n",
       "      <th>item_no</th>\n",
       "      <th>affiliate_type</th>\n",
       "      <th>affiliate_url</th>\n",
       "      <th>affiliate_image</th>\n",
       "      <th>price</th>\n",
       "      <th>sale_price</th>\n",
       "      <th>is_sale</th>\n",
       "      <th>is_use</th>\n",
       "      <th>regist_date</th>\n",
       "      <th>update_date</th>\n",
       "    </tr>\n",
       "  </thead>\n",
       "  <tbody>\n",
       "  </tbody>\n",
       "</table>\n",
       "</div>"
      ],
      "text/plain": [
       "Empty DataFrame\n",
       "Columns: [product_code, item_no, affiliate_type, affiliate_url, affiliate_image, price, sale_price, is_sale, is_use, regist_date, update_date]\n",
       "Index: []"
      ]
     },
     "execution_count": 101,
     "metadata": {},
     "output_type": "execute_result"
    }
   ],
   "source": [
    "_upload_df.loc[(_upload_df.is_use==1)& (_upload_df.is_sale==0) & (_upload_df.sale_price==0)]"
   ]
  },
  {
   "cell_type": "code",
   "execution_count": 102,
   "metadata": {},
   "outputs": [
    {
     "data": {
      "text/html": [
       "<div>\n",
       "<style scoped>\n",
       "    .dataframe tbody tr th:only-of-type {\n",
       "        vertical-align: middle;\n",
       "    }\n",
       "\n",
       "    .dataframe tbody tr th {\n",
       "        vertical-align: top;\n",
       "    }\n",
       "\n",
       "    .dataframe thead th {\n",
       "        text-align: right;\n",
       "    }\n",
       "</style>\n",
       "<table border=\"1\" class=\"dataframe\">\n",
       "  <thead>\n",
       "    <tr style=\"text-align: right;\">\n",
       "      <th></th>\n",
       "      <th>product_code</th>\n",
       "      <th>item_no</th>\n",
       "      <th>affiliate_type</th>\n",
       "      <th>affiliate_url</th>\n",
       "      <th>affiliate_image</th>\n",
       "      <th>price</th>\n",
       "      <th>sale_price</th>\n",
       "      <th>is_sale</th>\n",
       "      <th>regist_date</th>\n",
       "      <th>update_date</th>\n",
       "    </tr>\n",
       "    <tr>\n",
       "      <th>is_use</th>\n",
       "      <th></th>\n",
       "      <th></th>\n",
       "      <th></th>\n",
       "      <th></th>\n",
       "      <th></th>\n",
       "      <th></th>\n",
       "      <th></th>\n",
       "      <th></th>\n",
       "      <th></th>\n",
       "      <th></th>\n",
       "    </tr>\n",
       "  </thead>\n",
       "  <tbody>\n",
       "    <tr>\n",
       "      <th>0</th>\n",
       "      <td>1922</td>\n",
       "      <td>1922</td>\n",
       "      <td>1922</td>\n",
       "      <td>1922</td>\n",
       "      <td>1921</td>\n",
       "      <td>1922</td>\n",
       "      <td>1922</td>\n",
       "      <td>1922</td>\n",
       "      <td>1922</td>\n",
       "      <td>1922</td>\n",
       "    </tr>\n",
       "    <tr>\n",
       "      <th>1</th>\n",
       "      <td>2662</td>\n",
       "      <td>2662</td>\n",
       "      <td>2662</td>\n",
       "      <td>2662</td>\n",
       "      <td>2662</td>\n",
       "      <td>2662</td>\n",
       "      <td>2662</td>\n",
       "      <td>2662</td>\n",
       "      <td>2662</td>\n",
       "      <td>2662</td>\n",
       "    </tr>\n",
       "  </tbody>\n",
       "</table>\n",
       "</div>"
      ],
      "text/plain": [
       "        product_code  item_no  affiliate_type  affiliate_url  affiliate_image  \\\n",
       "is_use                                                                          \n",
       "0               1922     1922            1922           1922             1921   \n",
       "1               2662     2662            2662           2662             2662   \n",
       "\n",
       "        price  sale_price  is_sale  regist_date  update_date  \n",
       "is_use                                                        \n",
       "0        1922        1922     1922         1922         1922  \n",
       "1        2662        2662     2662         2662         2662  "
      ]
     },
     "execution_count": 102,
     "metadata": {},
     "output_type": "execute_result"
    }
   ],
   "source": [
    "_upload_df.groupby('is_use').count()\n",
    "# _upload_df[_upload_df.is_use==1].groupby('is_sale').count()"
   ]
  },
  {
   "cell_type": "code",
   "execution_count": 103,
   "metadata": {},
   "outputs": [
    {
     "name": "stdout",
     "output_type": "stream",
     "text": [
      "\n",
      "\n",
      "`affiliate_price_update_amazon_220921` does not exist in db\n",
      "\n",
      "\n",
      "Table Upload Success: `affiliate_price_update_amazon_220921`\n"
     ]
    }
   ],
   "source": [
    "db_jangho.create_table(upload_df=_upload_df, table_name='affiliate_price_update_amazon')"
   ]
  },
  {
   "cell_type": "code",
   "execution_count": null,
   "metadata": {},
   "outputs": [],
   "source": [
    "# # sale_price == price\n",
    "\n",
    "# today = '220914'\n",
    "# # today = db_jangho.today\n",
    "# query = f'''\n",
    "# update jangho.affiliate_price_update_amazon_{today} as a\n",
    "# join jangho.affiliate_price_update_amazon_{today} as b\n",
    "# on a.product_code = b.product_code and a.item_no = b.item_no and a.affiliate_type = b.affiliate_type\n",
    "# set a.sale_price = b.price\n",
    "# where a.is_sale = 0 and a.is_use = 1 and a.sale_price = 0;'''\n",
    "\n",
    "# conn, curs = db_jangho._connect()\n",
    "# curs.execute(query)\n",
    "# conn.commit()\n",
    "# curs.close()\n",
    "# conn.close()"
   ]
  },
  {
   "cell_type": "code",
   "execution_count": null,
   "metadata": {},
   "outputs": [],
   "source": [
    "# # is_use = 1\n",
    "\n",
    "# today = '220914'\n",
    "# # today = db_jangho.today\n",
    "# query = f'''\n",
    "# update affiliate_price_update_amazon_{today}\n",
    "# set is_use = 1\n",
    "# where is_use = 0 and price != 0;'''\n",
    "\n",
    "# conn, curs = db_jangho._connect()\n",
    "# curs.execute(query)\n",
    "# conn.commit()\n",
    "# curs.close()\n",
    "# conn.close()"
   ]
  },
  {
   "cell_type": "code",
   "execution_count": 104,
   "metadata": {},
   "outputs": [],
   "source": [
    "today = db_jangho.today\n",
    "query = f'''\n",
    "update glamai.affiliate_price as a\n",
    "join jangho.affiliate_price_update_amazon_{today} as b \n",
    "on a.product_code = b.product_code and a.item_no = b.item_no and a.affiliate_type = b.affiliate_type\n",
    "set a.price = b.price, a.sale_price = b.sale_price, a.is_sale = b.is_sale, a.is_use = b.is_use, a.regist_date = b.regist_date, a.update_date = b.update_date;'''\n",
    "\n",
    "conn, curs = db_jangho._connect()\n",
    "curs.execute(query)\n",
    "conn.commit()\n",
    "curs.close()\n",
    "conn.close()"
   ]
  },
  {
   "cell_type": "code",
   "execution_count": 105,
   "metadata": {},
   "outputs": [
    {
     "name": "stdout",
     "output_type": "stream",
     "text": [
      "()\n"
     ]
    }
   ],
   "source": [
    "# Check query\n",
    "\n",
    "query = 'select * from affiliate_price where is_use=1 and is_sale=0 and sale_price=0;'\n",
    "conn, curs = db_glamai._connect()\n",
    "curs.execute(query)\n",
    "data = curs.fetchall()\n",
    "print(data)\n",
    "curs.close()\n",
    "conn.close()"
   ]
  },
  {
   "cell_type": "markdown",
   "metadata": {},
   "source": [
    "---\n",
    "#### Ulta update"
   ]
  },
  {
   "cell_type": "code",
   "execution_count": null,
   "metadata": {},
   "outputs": [],
   "source": [
    "from affiliate.ulta import get_data, _crawling, _upload"
   ]
  },
  {
   "cell_type": "code",
   "execution_count": null,
   "metadata": {},
   "outputs": [],
   "source": [
    "df_ulta = get_data()\n",
    "datas, error = [], []\n",
    "for value in tqdm(df_ulta.values):\n",
    "    data = _crawling(value)\n",
    "    if data is None:\n",
    "        affiliate_url = value[3]\n",
    "        error.append(affiliate_url)\n",
    "    else:\n",
    "        datas.append(data)\n",
    "crawling_df, upload_df = _upload(datas)"
   ]
  },
  {
   "cell_type": "code",
   "execution_count": null,
   "metadata": {},
   "outputs": [],
   "source": [
    "db_jangho.create_table(upload_df=upload_df, table_name='affiliate_price_update_ulta')"
   ]
  },
  {
   "cell_type": "code",
   "execution_count": null,
   "metadata": {},
   "outputs": [],
   "source": [
    "# today = '220913'\n",
    "# # today = db_jangho.today\n",
    "# query = f'''\n",
    "# update jangho.affiliate_price_update_ulta_{today} as a\n",
    "# join jangho.affiliate_price_update_ulta_{today} as b\n",
    "# on a.product_code = b.product_code and a.item_no = b.item_no and a.affiliate_type = b.affiliate_type\n",
    "# set a.sale_price = b.price\n",
    "# where a.is_sale = 0 and a.is_use = 1 and a.sale_price = 0;'''\n",
    "\n",
    "# conn, curs = db_jangho._connect()\n",
    "# curs.execute(query)\n",
    "# conn.commit()\n",
    "# curs.close()\n",
    "# conn.close()"
   ]
  },
  {
   "cell_type": "code",
   "execution_count": null,
   "metadata": {},
   "outputs": [],
   "source": [
    "# today = '220913'\n",
    "# # today = db_jangho.today\n",
    "# query = f'''\n",
    "# update affiliate_price_update_ulta_{today}\n",
    "# set is_use = 1\n",
    "# where is_use = 0 and price != 0;'''\n",
    "\n",
    "# conn, curs = db_jangho._connect()\n",
    "# curs.execute(query)\n",
    "# conn.commit()\n",
    "# curs.close()\n",
    "# conn.close()"
   ]
  },
  {
   "cell_type": "code",
   "execution_count": 106,
   "metadata": {},
   "outputs": [],
   "source": [
    "# today = db_jangho.today\n",
    "today = '220920'\n",
    "query = f'''\n",
    "update glamai.affiliate_price as a\n",
    "join jangho.affiliate_price_update_ulta_{today} as b \n",
    "on a.product_code = b.product_code and a.item_no = b.item_no and a.affiliate_type = b.affiliate_type\n",
    "set a.price = b.price, a.sale_price = b.sale_price, a.is_sale = b.is_sale, a.is_use = b.is_use, a.regist_date = b.regist_date, a.update_date = b.update_date;'''\n",
    "\n",
    "conn, curs = db_jangho._connect()\n",
    "curs.execute(query)\n",
    "conn.commit()\n",
    "curs.close()\n",
    "conn.close()\n"
   ]
  },
  {
   "cell_type": "code",
   "execution_count": 108,
   "metadata": {},
   "outputs": [
    {
     "name": "stdout",
     "output_type": "stream",
     "text": [
      "()\n"
     ]
    }
   ],
   "source": [
    "# Check query\n",
    "\n",
    "query = 'select * from affiliate_price where is_use=1 and is_sale=0 and sale_price=0;'\n",
    "conn, curs = db_glamai._connect()\n",
    "curs.execute(query)\n",
    "data = curs.fetchall()\n",
    "print(data)\n",
    "curs.close()\n",
    "conn.close()"
   ]
  },
  {
   "cell_type": "markdown",
   "metadata": {},
   "source": [
    "---\n",
    "### Table Upload "
   ]
  },
  {
   "cell_type": "code",
   "execution_count": null,
   "metadata": {},
   "outputs": [],
   "source": [
    "# # glamai_youtube_urls\n",
    "# df = pd.read_csv('/Users/yeonseosla/Downloads/glamai_youtube_total_220902_final.csv').iloc[:, 1:]\n",
    "# df.loc[:, 'regist_date'] = datetime.now()\n",
    "# db_glamai.create_table(df, 'glamai_youtube_urls')"
   ]
  },
  {
   "cell_type": "code",
   "execution_count": null,
   "metadata": {},
   "outputs": [],
   "source": []
  },
  {
   "cell_type": "code",
   "execution_count": null,
   "metadata": {},
   "outputs": [],
   "source": []
  }
 ],
 "metadata": {
  "kernelspec": {
   "display_name": "Python 3.10.4 ('venv')",
   "language": "python",
   "name": "python3"
  },
  "language_info": {
   "codemirror_mode": {
    "name": "ipython",
    "version": 3
   },
   "file_extension": ".py",
   "mimetype": "text/x-python",
   "name": "python",
   "nbconvert_exporter": "python",
   "pygments_lexer": "ipython3",
   "version": "3.10.4"
  },
  "orig_nbformat": 4,
  "vscode": {
   "interpreter": {
    "hash": "9bf4960e0944d0187d62a18875a8b32193841666fde4904048c0d8eeed8d33aa"
   }
  }
 },
 "nbformat": 4,
 "nbformat_minor": 2
}
